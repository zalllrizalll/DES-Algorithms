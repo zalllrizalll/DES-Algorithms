{
  "nbformat": 4,
  "nbformat_minor": 0,
  "metadata": {
    "colab": {
      "provenance": [],
      "authorship_tag": "ABX9TyNWCLbnIg2w4PqjnzQV+SH6",
      "include_colab_link": true
    },
    "kernelspec": {
      "name": "python3",
      "display_name": "Python 3"
    },
    "language_info": {
      "name": "python"
    }
  },
  "cells": [
    {
      "cell_type": "markdown",
      "metadata": {
        "id": "view-in-github",
        "colab_type": "text"
      },
      "source": [
        "<a href=\"https://colab.research.google.com/github/zalllrizalll/DES-Algorithms/blob/main/DES_Algorithms.ipynb\" target=\"_parent\"><img src=\"https://colab.research.google.com/assets/colab-badge.svg\" alt=\"Open In Colab\"/></a>"
      ]
    },
    {
      "cell_type": "code",
      "source": [
        "plainText = \"COMPUTER\"\n",
        "plainText"
      ],
      "metadata": {
        "id": "1al0n3c6SmQh",
        "colab": {
          "base_uri": "https://localhost:8080/",
          "height": 35
        },
        "outputId": "8a5134c4-6796-41c5-d1b4-c63822590401"
      },
      "execution_count": null,
      "outputs": [
        {
          "output_type": "execute_result",
          "data": {
            "text/plain": [
              "'COMPUTER'"
            ],
            "application/vnd.google.colaboratory.intrinsic+json": {
              "type": "string"
            }
          },
          "metadata": {},
          "execution_count": 1
        }
      ]
    },
    {
      "cell_type": "code",
      "source": [
        "key = \"13 34 57 79 9B BC DF F1\"\n",
        "key"
      ],
      "metadata": {
        "colab": {
          "base_uri": "https://localhost:8080/",
          "height": 35
        },
        "id": "eyu0PAPLTcw5",
        "outputId": "48bbd253-daaf-4f6d-f5ae-fa6273dac47a"
      },
      "execution_count": null,
      "outputs": [
        {
          "output_type": "execute_result",
          "data": {
            "text/plain": [
              "'13 34 57 79 9B BC DF F1'"
            ],
            "application/vnd.google.colaboratory.intrinsic+json": {
              "type": "string"
            }
          },
          "metadata": {},
          "execution_count": 2
        }
      ]
    },
    {
      "cell_type": "code",
      "source": [
        "# Validasi Input User\n",
        "if not len(plainText.split()) == 8 :\n",
        "  print(\"Panjang plaintext harus 8 !\")\n",
        "elif not len(key.split()) == 8 :\n",
        "  print(\"Panjang key harus 8 !\")\n",
        "else :\n",
        "  # Dapatkan value ASCII tiap char menggunakan fungsi ord()\n",
        "  ascii_value = []\n",
        "  for i in range(len(plainText)):\n",
        "    ascii_value.append(ord(plainText[i]))\n",
        "ascii_value"
      ],
      "metadata": {
        "colab": {
          "base_uri": "https://localhost:8080/"
        },
        "id": "fScXnwPCTCfu",
        "outputId": "80705e6a-90f5-4756-aff6-6e0b2623c03b"
      },
      "execution_count": null,
      "outputs": [
        {
          "output_type": "execute_result",
          "data": {
            "text/plain": [
              "[67, 79, 77, 80, 85, 84, 69, 82]"
            ]
          },
          "metadata": {},
          "execution_count": 3
        }
      ]
    },
    {
      "cell_type": "markdown",
      "source": [
        "Ubah tiap value dari karakter ASCII ke dalam binary"
      ],
      "metadata": {
        "id": "HUmWw1XoWh5t"
      }
    },
    {
      "cell_type": "code",
      "source": [
        "def dec2bin(num):\n",
        "  result = bin(num).replace(\"0b\", \"\")\n",
        "  if(len(result) % 4 != 0):\n",
        "    div = len(result) / 4\n",
        "    div = int(div)\n",
        "    counter = (4 * (div + 1)) - len(result)\n",
        "    for i in range(0, counter):\n",
        "      result = '0' + result\n",
        "    return result"
      ],
      "metadata": {
        "id": "_8Kq6jTsWT_D"
      },
      "execution_count": null,
      "outputs": []
    },
    {
      "cell_type": "code",
      "source": [
        "ascii_binary = []\n",
        "for i in range(len(ascii_value)):\n",
        "  ascii_binary.append(dec2bin(ascii_value[i]))\n",
        "ascii_binary"
      ],
      "metadata": {
        "colab": {
          "base_uri": "https://localhost:8080/"
        },
        "id": "9iQGILBHXU0K",
        "outputId": "4f02d769-d50c-4756-aa54-8a6db7363180"
      },
      "execution_count": null,
      "outputs": [
        {
          "output_type": "execute_result",
          "data": {
            "text/plain": [
              "['01000011',\n",
              " '01001111',\n",
              " '01001101',\n",
              " '01010000',\n",
              " '01010101',\n",
              " '01010100',\n",
              " '01000101',\n",
              " '01010010']"
            ]
          },
          "metadata": {},
          "execution_count": 5
        }
      ]
    },
    {
      "cell_type": "code",
      "source": [
        "ascii_binary = \"\".join(ascii_binary)\n",
        "ascii_binary"
      ],
      "metadata": {
        "colab": {
          "base_uri": "https://localhost:8080/",
          "height": 35
        },
        "id": "bFr7jf3obKc8",
        "outputId": "50ae874e-6766-470f-ac62-50a54ca98111"
      },
      "execution_count": null,
      "outputs": [
        {
          "output_type": "execute_result",
          "data": {
            "text/plain": [
              "'0100001101001111010011010101000001010101010101000100010101010010'"
            ],
            "application/vnd.google.colaboratory.intrinsic+json": {
              "type": "string"
            }
          },
          "metadata": {},
          "execution_count": 6
        }
      ]
    },
    {
      "cell_type": "markdown",
      "source": [
        "Langkah 1 : Encoding setiap 64 bit data pada plaintext dengan Initial Permutasi"
      ],
      "metadata": {
        "id": "YFs2OBB7jCYz"
      }
    },
    {
      "cell_type": "markdown",
      "source": [
        "Mengatur ulang posisi semua bit teks biasa menjadi matriks initial_perm(8x8)"
      ],
      "metadata": {
        "id": "5YMF1ddDZwjn"
      }
    },
    {
      "cell_type": "code",
      "execution_count": null,
      "metadata": {
        "id": "C801-f1u5Bf3"
      },
      "outputs": [],
      "source": [
        "initial_perm = [58, 50, 42, 34, 26, 18, 10, 2,\n",
        "                60, 52, 44, 36, 28, 20, 12, 4,\n",
        "                62, 54, 46, 38, 30, 22, 14, 6,\n",
        "                64, 56, 48, 40, 32, 24, 16, 8,\n",
        "                57, 49, 41, 33, 25, 17, 9, 1,\n",
        "                59, 51, 43, 35, 27, 19, 11, 3,\n",
        "                61, 53, 45, 37, 29, 21, 13, 5,\n",
        "                63, 55, 47, 39, 31, 23, 15, 7]\n"
      ]
    },
    {
      "cell_type": "code",
      "source": [
        "def initial_permutation(plain_text, initial_perm, no_bits):\n",
        "  permutation = \"\"\n",
        "  for i in range(0, no_bits):\n",
        "    permutation += plain_text[initial_perm[i] - 1]\n",
        "  return permutation"
      ],
      "metadata": {
        "id": "9xAGB6yLY2Bi"
      },
      "execution_count": null,
      "outputs": []
    },
    {
      "cell_type": "markdown",
      "source": [
        "Hasil Initial Permutasi"
      ],
      "metadata": {
        "id": "omdSd7vMdROu"
      }
    },
    {
      "cell_type": "code",
      "source": [
        "ascii_perm = initial_permutation(ascii_binary, initial_perm, 64)\n",
        "ascii_perm"
      ],
      "metadata": {
        "colab": {
          "base_uri": "https://localhost:8080/",
          "height": 35
        },
        "id": "Mg8RDiXJZ_iS",
        "outputId": "4cba2dde-6fbe-46fe-f0d5-bb7042fbdf4b"
      },
      "execution_count": null,
      "outputs": [
        {
          "output_type": "execute_result",
          "data": {
            "text/plain": [
              "'1111111110111000011101100101011100000000000000000000011010000011'"
            ],
            "application/vnd.google.colaboratory.intrinsic+json": {
              "type": "string"
            }
          },
          "metadata": {},
          "execution_count": 9
        }
      ]
    },
    {
      "cell_type": "markdown",
      "source": [
        "Langkah 2 : Pecah hasil Initial Permutasi menjadi 2 bagian yang sama panjang (32 bit)"
      ],
      "metadata": {
        "id": "A-HBq5sOjNsC"
      }
    },
    {
      "cell_type": "markdown",
      "source": [
        "Bagi ascii_perm menjadi 2 bagian yang sama panjang (32 bit)"
      ],
      "metadata": {
        "id": "bFXD6GXqgbvS"
      }
    },
    {
      "cell_type": "code",
      "source": [
        "half_length_plaintext = len(ascii_perm) // 2\n",
        "Lo = ascii_perm[:half_length_plaintext]\n",
        "Lo"
      ],
      "metadata": {
        "colab": {
          "base_uri": "https://localhost:8080/",
          "height": 35
        },
        "id": "no384DhcdkJB",
        "outputId": "4b046885-b7c7-48a4-bbd0-e6a22c7caffd"
      },
      "execution_count": null,
      "outputs": [
        {
          "output_type": "execute_result",
          "data": {
            "text/plain": [
              "'11111111101110000111011001010111'"
            ],
            "application/vnd.google.colaboratory.intrinsic+json": {
              "type": "string"
            }
          },
          "metadata": {},
          "execution_count": 10
        }
      ]
    },
    {
      "cell_type": "code",
      "source": [
        "Ro = ascii_perm[half_length_plaintext:]\n",
        "Ro"
      ],
      "metadata": {
        "colab": {
          "base_uri": "https://localhost:8080/",
          "height": 35
        },
        "id": "kv7XJRF0hMNZ",
        "outputId": "e7becf4a-019d-403c-ec73-d4fdc0e4e903"
      },
      "execution_count": null,
      "outputs": [
        {
          "output_type": "execute_result",
          "data": {
            "text/plain": [
              "'00000000000000000000011010000011'"
            ],
            "application/vnd.google.colaboratory.intrinsic+json": {
              "type": "string"
            }
          },
          "metadata": {},
          "execution_count": 11
        }
      ]
    },
    {
      "cell_type": "markdown",
      "source": [
        "BREAK - Berhenti untuk proses permutasi plaintext"
      ],
      "metadata": {
        "id": "6ChoCfDShiie"
      }
    },
    {
      "cell_type": "markdown",
      "source": [
        "Langkah 3 : Pembangkitan Kunci"
      ],
      "metadata": {
        "id": "bvK6PAdzi2z3"
      }
    },
    {
      "cell_type": "markdown",
      "source": [
        "Asumsikan key generator berupa bilangan hexadecimal"
      ],
      "metadata": {
        "id": "huBWtL6IjveB"
      }
    },
    {
      "cell_type": "code",
      "source": [
        "def hex2bin(hex_string):\n",
        "  try:\n",
        "    # decimal -> biner\n",
        "    binary_num = bin(hex_string)\n",
        "\n",
        "    # Menghilangkan awalan '0b' dan mengonversi ke bentuk 8 digit\n",
        "    binary_result = '{:08b}'.format(int(binary_num, 2))\n",
        "\n",
        "    return binary_result\n",
        "  except ValueError:\n",
        "    return \"Input bukan bilangan heksadesimal yang valid\""
      ],
      "metadata": {
        "id": "t0CV8GwMhpw_"
      },
      "execution_count": null,
      "outputs": []
    },
    {
      "cell_type": "markdown",
      "source": [
        "Ubah value hexadecimal -> decimal"
      ],
      "metadata": {
        "id": "cvW_G5OPsBH4"
      }
    },
    {
      "cell_type": "code",
      "source": [
        "key_list = [int(hex_value, 16) for hex_value in key.split()]\n",
        "key_list"
      ],
      "metadata": {
        "colab": {
          "base_uri": "https://localhost:8080/"
        },
        "id": "4AV-JNcTpnW9",
        "outputId": "5fd2bc3b-a6eb-4a15-fce7-c0df71cae147"
      },
      "execution_count": null,
      "outputs": [
        {
          "output_type": "execute_result",
          "data": {
            "text/plain": [
              "[19, 52, 87, 121, 155, 188, 223, 241]"
            ]
          },
          "metadata": {},
          "execution_count": 13
        }
      ]
    },
    {
      "cell_type": "markdown",
      "source": [
        "Ubah value decimal tersebut -> binary"
      ],
      "metadata": {
        "id": "SxWtSGylr298"
      }
    },
    {
      "cell_type": "code",
      "source": [
        "key_binary = []\n",
        "for i in range(len(key_list)):\n",
        "  key_binary.append(hex2bin(key_list[i]))\n",
        "key_binary"
      ],
      "metadata": {
        "colab": {
          "base_uri": "https://localhost:8080/"
        },
        "id": "gAXUNrkZr6Hc",
        "outputId": "f56fc2d9-5600-4ef6-dbd3-9d4c55648325"
      },
      "execution_count": null,
      "outputs": [
        {
          "output_type": "execute_result",
          "data": {
            "text/plain": [
              "['00010011',\n",
              " '00110100',\n",
              " '01010111',\n",
              " '01111001',\n",
              " '10011011',\n",
              " '10111100',\n",
              " '11011111',\n",
              " '11110001']"
            ]
          },
          "metadata": {},
          "execution_count": 14
        }
      ]
    },
    {
      "cell_type": "code",
      "source": [
        "key_binary = \"\".join(key_binary)\n",
        "key_binary"
      ],
      "metadata": {
        "colab": {
          "base_uri": "https://localhost:8080/",
          "height": 35
        },
        "id": "MjmWdYbNwxkv",
        "outputId": "93049330-4141-48a8-f638-1cc7b1140989"
      },
      "execution_count": null,
      "outputs": [
        {
          "output_type": "execute_result",
          "data": {
            "text/plain": [
              "'0001001100110100010101110111100110011011101111001101111111110001'"
            ],
            "application/vnd.google.colaboratory.intrinsic+json": {
              "type": "string"
            }
          },
          "metadata": {},
          "execution_count": 15
        }
      ]
    },
    {
      "cell_type": "markdown",
      "source": [
        "Tabel PC-1"
      ],
      "metadata": {
        "id": "rKlDVkkwvpEB"
      }
    },
    {
      "cell_type": "code",
      "source": [
        "matrix_pc_1 = [ 57, 49, 41, 33, 25, 17, 9,\n",
        "                1, 58, 50, 42, 34, 26, 18,\n",
        "                10, 2, 59, 51, 43, 35, 27,\n",
        "                19, 11, 3, 60, 52, 44, 36,\n",
        "                63, 55, 47, 39, 31, 23, 15,\n",
        "                7, 62, 54, 46, 38, 30, 22,\n",
        "                14, 6, 61, 53, 45, 37, 29,\n",
        "                21, 13, 5, 28, 20, 12, 4 ]"
      ],
      "metadata": {
        "id": "JsLeHi21vrkw"
      },
      "execution_count": null,
      "outputs": []
    },
    {
      "cell_type": "markdown",
      "source": [
        "Langkah 4 : Permutasi PC-1"
      ],
      "metadata": {
        "id": "uGD0jFeNwcyC"
      }
    },
    {
      "cell_type": "code",
      "source": [
        "key_perm = initial_permutation(key_binary, matrix_pc_1, 56)\n",
        "key_perm"
      ],
      "metadata": {
        "colab": {
          "base_uri": "https://localhost:8080/",
          "height": 35
        },
        "id": "yAZGOMKbwh0P",
        "outputId": "7aa6ca6d-0c94-4932-bd4f-5e4450ba1f52"
      },
      "execution_count": null,
      "outputs": [
        {
          "output_type": "execute_result",
          "data": {
            "text/plain": [
              "'11110000110011001010101011110101010101100110011110001111'"
            ],
            "application/vnd.google.colaboratory.intrinsic+json": {
              "type": "string"
            }
          },
          "metadata": {},
          "execution_count": 17
        }
      ]
    },
    {
      "cell_type": "markdown",
      "source": [
        "Langkah 5 :  Pecah hasil key_perm menjadi 2 bagian yang sama panjang (28 bit)"
      ],
      "metadata": {
        "id": "4Y5h5gd1zBMq"
      }
    },
    {
      "cell_type": "code",
      "source": [
        "half_length_key = len(key_perm) // 2\n",
        "Co = key_perm[:half_length_key]\n",
        "Co"
      ],
      "metadata": {
        "colab": {
          "base_uri": "https://localhost:8080/",
          "height": 35
        },
        "id": "DcHdFrhFzR97",
        "outputId": "1fe5cba3-bbc9-4c0d-b5cd-57504bb5a311"
      },
      "execution_count": null,
      "outputs": [
        {
          "output_type": "execute_result",
          "data": {
            "text/plain": [
              "'1111000011001100101010101111'"
            ],
            "application/vnd.google.colaboratory.intrinsic+json": {
              "type": "string"
            }
          },
          "metadata": {},
          "execution_count": 18
        }
      ]
    },
    {
      "cell_type": "code",
      "source": [
        "Do = key_perm[half_length_key:]\n",
        "Do"
      ],
      "metadata": {
        "colab": {
          "base_uri": "https://localhost:8080/",
          "height": 35
        },
        "id": "AtMYgOJ9z2gr",
        "outputId": "86af834d-35ab-4d9d-c77e-eb42a6b62f62"
      },
      "execution_count": null,
      "outputs": [
        {
          "output_type": "execute_result",
          "data": {
            "text/plain": [
              "'0101010101100110011110001111'"
            ],
            "application/vnd.google.colaboratory.intrinsic+json": {
              "type": "string"
            }
          },
          "metadata": {},
          "execution_count": 19
        }
      ]
    },
    {
      "cell_type": "markdown",
      "source": [
        "Langkah 6 : *Wrapping* atau *Round-Shift*"
      ],
      "metadata": {
        "id": "gGzFCHkW0b02"
      }
    },
    {
      "cell_type": "code",
      "source": [
        "shift_table=[ 1, 1, 2, 2,\n",
        "              2, 2, 2, 2,\n",
        "              1, 2, 2, 2,\n",
        "              2, 2, 2, 1 ]"
      ],
      "metadata": {
        "id": "4Cv29cgp0ott"
      },
      "execution_count": null,
      "outputs": []
    },
    {
      "cell_type": "code",
      "source": [
        "matrix_pc_2 = [ 14, 17, 11, 24, 1, 5,\n",
        "                3, 28, 15, 6, 21, 10,\n",
        "                23, 19, 12, 4, 26, 8,\n",
        "                16, 7, 27, 20, 13, 2,\n",
        "                41, 52, 31, 37, 47, 55,\n",
        "                30, 40, 51, 45, 33, 48,\n",
        "                44, 49, 39, 56, 34, 53,\n",
        "                46, 42, 50, 36, 29, 32 ]"
      ],
      "metadata": {
        "id": "ujKEsW3F7KEC"
      },
      "execution_count": null,
      "outputs": []
    },
    {
      "cell_type": "markdown",
      "source": [
        "Langkah 7 : Lakukan pergeseran Co dan Do ke kiri sesuai dengan shift table"
      ],
      "metadata": {
        "id": "2MvR_0Oh3fyE"
      }
    },
    {
      "cell_type": "code",
      "source": [
        "def shift_left(kunci,count_shift):\n",
        "  left_shift = \"\"\n",
        "  for i in range(count_shift): # Loop shift table\n",
        "    for j in range(1, len(kunci)): # Loop index dari key\n",
        "      left_shift += kunci[j]\n",
        "    left_shift += kunci[0]\n",
        "    kunci = left_shift\n",
        "    left_shift = \"\"\n",
        "  return kunci"
      ],
      "metadata": {
        "id": "qpm2qf2O3mxl"
      },
      "execution_count": null,
      "outputs": []
    },
    {
      "cell_type": "markdown",
      "source": [
        "Langkah 8 : Hasil perolehan dari Cn dan Dn di permutasikan dengan table permutasi PC-2"
      ],
      "metadata": {
        "id": "iqNRXeUev7eJ"
      }
    },
    {
      "cell_type": "code",
      "source": [
        "# Key Transformation\n",
        "cn_shift = Co\n",
        "dn_shift = Do\n",
        "# Save key transformation\n",
        "list_combine_perm = []\n",
        "decrypt = \"\"\n",
        "for i in range(0, 16):\n",
        "  Cn = shift_left(cn_shift, shift_table[i])\n",
        "  Dn = shift_left(dn_shift, shift_table[i])\n",
        "  combine = Cn + Dn\n",
        "\n",
        "  # Permutasi kan dengan table PC-2\n",
        "  combine_perm = initial_permutation(combine, matrix_pc_2, 48)\n",
        "  list_combine_perm.append(combine_perm)\n",
        "  decrypt = list_combine_perm[::-1]\n",
        "\n",
        "  print(f\"Pergeseran {i+1}\")\n",
        "  print(\"C\" + str(i+1) + \"\\t=\", Cn)\n",
        "  print(\"D\" + str(i+1) + \"\\t=\", Dn)\n",
        "  print(\"C\" + str(i+1) + \"D\" + str(i+1) + \"\\t=\", combine)\n",
        "  print()\n",
        "  print(\"Hasil Permutasi : \")\n",
        "  print(\"K\" + str(i+1) + \"\\t=\", combine_perm )\n",
        "  print()\n",
        "\n",
        "  cn_shift = Cn\n",
        "  dn_shift = Dn"
      ],
      "metadata": {
        "colab": {
          "base_uri": "https://localhost:8080/"
        },
        "id": "GfRamXd94mX3",
        "outputId": "3a6d8ba6-aa1d-42ed-8f51-820ad67a4738"
      },
      "execution_count": null,
      "outputs": [
        {
          "output_type": "stream",
          "name": "stdout",
          "text": [
            "Pergeseran 1\n",
            "C1\t= 1110000110011001010101011111\n",
            "D1\t= 1010101011001100111100011110\n",
            "C1D1\t= 11100001100110010101010111111010101011001100111100011110\n",
            "\n",
            "Hasil Permutasi : \n",
            "K1\t= 000110110000001011101111111111000111000001110010\n",
            "\n",
            "Pergeseran 2\n",
            "C2\t= 1100001100110010101010111111\n",
            "D2\t= 0101010110011001111000111101\n",
            "C2D2\t= 11000011001100101010101111110101010110011001111000111101\n",
            "\n",
            "Hasil Permutasi : \n",
            "K2\t= 011110011010111011011001110110111100100111100101\n",
            "\n",
            "Pergeseran 3\n",
            "C3\t= 0000110011001010101011111111\n",
            "D3\t= 0101011001100111100011110101\n",
            "C3D3\t= 00001100110010101010111111110101011001100111100011110101\n",
            "\n",
            "Hasil Permutasi : \n",
            "K3\t= 010101011111110010001010010000101100111110011001\n",
            "\n",
            "Pergeseran 4\n",
            "C4\t= 0011001100101010101111111100\n",
            "D4\t= 0101100110011110001111010101\n",
            "C4D4\t= 00110011001010101011111111000101100110011110001111010101\n",
            "\n",
            "Hasil Permutasi : \n",
            "K4\t= 011100101010110111010110110110110011010100011101\n",
            "\n",
            "Pergeseran 5\n",
            "C5\t= 1100110010101010111111110000\n",
            "D5\t= 0110011001111000111101010101\n",
            "C5D5\t= 11001100101010101111111100000110011001111000111101010101\n",
            "\n",
            "Hasil Permutasi : \n",
            "K5\t= 011111001110110000000111111010110101001110101000\n",
            "\n",
            "Pergeseran 6\n",
            "C6\t= 0011001010101011111111000011\n",
            "D6\t= 1001100111100011110101010101\n",
            "C6D6\t= 00110010101010111111110000111001100111100011110101010101\n",
            "\n",
            "Hasil Permutasi : \n",
            "K6\t= 011000111010010100111110010100000111101100101111\n",
            "\n",
            "Pergeseran 7\n",
            "C7\t= 1100101010101111111100001100\n",
            "D7\t= 0110011110001111010101010110\n",
            "C7D7\t= 11001010101011111111000011000110011110001111010101010110\n",
            "\n",
            "Hasil Permutasi : \n",
            "K7\t= 111011001000010010110111111101100001100010111100\n",
            "\n",
            "Pergeseran 8\n",
            "C8\t= 0010101010111111110000110011\n",
            "D8\t= 1001111000111101010101011001\n",
            "C8D8\t= 00101010101111111100001100111001111000111101010101011001\n",
            "\n",
            "Hasil Permutasi : \n",
            "K8\t= 111101111000101000111010110000010011101111111011\n",
            "\n",
            "Pergeseran 9\n",
            "C9\t= 0101010101111111100001100110\n",
            "D9\t= 0011110001111010101010110011\n",
            "C9D9\t= 01010101011111111000011001100011110001111010101010110011\n",
            "\n",
            "Hasil Permutasi : \n",
            "K9\t= 111000001101101111101011111011011110011110000001\n",
            "\n",
            "Pergeseran 10\n",
            "C10\t= 0101010111111110000110011001\n",
            "D10\t= 1111000111101010101011001100\n",
            "C10D10\t= 01010101111111100001100110011111000111101010101011001100\n",
            "\n",
            "Hasil Permutasi : \n",
            "K10\t= 101100011111001101000111101110100100011001001111\n",
            "\n",
            "Pergeseran 11\n",
            "C11\t= 0101011111111000011001100101\n",
            "D11\t= 1100011110101010101100110011\n",
            "C11D11\t= 01010111111110000110011001011100011110101010101100110011\n",
            "\n",
            "Hasil Permutasi : \n",
            "K11\t= 001000010101111111010011110111101101001110000110\n",
            "\n",
            "Pergeseran 12\n",
            "C12\t= 0101111111100001100110010101\n",
            "D12\t= 0001111010101010110011001111\n",
            "C12D12\t= 01011111111000011001100101010001111010101010110011001111\n",
            "\n",
            "Hasil Permutasi : \n",
            "K12\t= 011101010111000111110101100101000110011111101001\n",
            "\n",
            "Pergeseran 13\n",
            "C13\t= 0111111110000110011001010101\n",
            "D13\t= 0111101010101011001100111100\n",
            "C13D13\t= 01111111100001100110010101010111101010101011001100111100\n",
            "\n",
            "Hasil Permutasi : \n",
            "K13\t= 100101111100010111010001111110101011101001000001\n",
            "\n",
            "Pergeseran 14\n",
            "C14\t= 1111111000011001100101010101\n",
            "D14\t= 1110101010101100110011110001\n",
            "C14D14\t= 11111110000110011001010101011110101010101100110011110001\n",
            "\n",
            "Hasil Permutasi : \n",
            "K14\t= 010111110100001110110111111100101110011100111010\n",
            "\n",
            "Pergeseran 15\n",
            "C15\t= 1111100001100110010101010111\n",
            "D15\t= 1010101010110011001111000111\n",
            "C15D15\t= 11111000011001100101010101111010101010110011001111000111\n",
            "\n",
            "Hasil Permutasi : \n",
            "K15\t= 101111111001000110001101001111010011111100001010\n",
            "\n",
            "Pergeseran 16\n",
            "C16\t= 1111000011001100101010101111\n",
            "D16\t= 0101010101100110011110001111\n",
            "C16D16\t= 11110000110011001010101011110101010101100110011110001111\n",
            "\n",
            "Hasil Permutasi : \n",
            "K16\t= 110010110011110110001011000011100001011111110101\n",
            "\n"
          ]
        }
      ]
    },
    {
      "cell_type": "markdown",
      "source": [
        "Key hasil permutasi dengan table PC-2"
      ],
      "metadata": {
        "id": "6iJ9L7jcrmm9"
      }
    },
    {
      "cell_type": "code",
      "source": [
        "for i in range(len(list_combine_perm)):\n",
        "  print(\"K\" + str(i + 1) + \"\\t=\", list_combine_perm[i])"
      ],
      "metadata": {
        "colab": {
          "base_uri": "https://localhost:8080/"
        },
        "id": "uxcZNC2FKuLs",
        "outputId": "6fee3249-397b-414e-8e42-0f8df6496f21"
      },
      "execution_count": null,
      "outputs": [
        {
          "output_type": "stream",
          "name": "stdout",
          "text": [
            "K1\t= 000110110000001011101111111111000111000001110010\n",
            "K2\t= 011110011010111011011001110110111100100111100101\n",
            "K3\t= 010101011111110010001010010000101100111110011001\n",
            "K4\t= 011100101010110111010110110110110011010100011101\n",
            "K5\t= 011111001110110000000111111010110101001110101000\n",
            "K6\t= 011000111010010100111110010100000111101100101111\n",
            "K7\t= 111011001000010010110111111101100001100010111100\n",
            "K8\t= 111101111000101000111010110000010011101111111011\n",
            "K9\t= 111000001101101111101011111011011110011110000001\n",
            "K10\t= 101100011111001101000111101110100100011001001111\n",
            "K11\t= 001000010101111111010011110111101101001110000110\n",
            "K12\t= 011101010111000111110101100101000110011111101001\n",
            "K13\t= 100101111100010111010001111110101011101001000001\n",
            "K14\t= 010111110100001110110111111100101110011100111010\n",
            "K15\t= 101111111001000110001101001111010011111100001010\n",
            "K16\t= 110010110011110110001011000011100001011111110101\n"
          ]
        }
      ]
    },
    {
      "cell_type": "markdown",
      "source": [
        "Hasil permutasi plainteks sebelumnya"
      ],
      "metadata": {
        "id": "q-srh0r01FWl"
      }
    },
    {
      "cell_type": "code",
      "source": [
        "print(\"Lo : \", Lo)\n",
        "print(\"Ro : \", Ro)"
      ],
      "metadata": {
        "colab": {
          "base_uri": "https://localhost:8080/"
        },
        "id": "ba1FE0VwwEgX",
        "outputId": "dff71145-150e-48e5-dd60-e3a5da0270f1"
      },
      "execution_count": null,
      "outputs": [
        {
          "output_type": "stream",
          "name": "stdout",
          "text": [
            "Lo :  11111111101110000111011001010111\n",
            "Ro :  00000000000000000000011010000011\n"
          ]
        }
      ]
    },
    {
      "cell_type": "markdown",
      "source": [
        "Awal Proses Enchipering"
      ],
      "metadata": {
        "id": "fwvgy6i_1ztr"
      }
    },
    {
      "cell_type": "code",
      "source": [
        "# XOR function\n",
        "def xor(a,b):\n",
        "  # a and b should be in binary\n",
        "  ans = \"\"\n",
        "  for i in range(len(a)):\n",
        "    if(a[i] == b[i]):\n",
        "      ans += \"0\"\n",
        "    else:\n",
        "      ans += \"1\"\n",
        "  return ans"
      ],
      "metadata": {
        "id": "PZVDub7JGYiD"
      },
      "execution_count": null,
      "outputs": []
    },
    {
      "cell_type": "markdown",
      "source": [
        "Function Konversi Binary -> Decimal"
      ],
      "metadata": {
        "id": "Y1FA5JbwSKA7"
      }
    },
    {
      "cell_type": "code",
      "source": [
        "def bin2dec(msg):\n",
        "  decimal, i = 0,0\n",
        "  while(msg != 0):\n",
        "    dec = msg % 10\n",
        "    decimal += dec * pow(2, i)\n",
        "    msg = msg // 10\n",
        "    i += 1\n",
        "  return decimal"
      ],
      "metadata": {
        "id": "D3K-wmdFSQWs"
      },
      "execution_count": null,
      "outputs": []
    },
    {
      "cell_type": "markdown",
      "source": [
        "Function Konversi Decimal -> Binary"
      ],
      "metadata": {
        "id": "j0awABIWShOP"
      }
    },
    {
      "cell_type": "code",
      "source": [
        "def dec2bin(num):\n",
        "  res = bin(num).replace(\"0b\", \"\")\n",
        "  if(len(res) % 4 != 0):\n",
        "    div = len(res) / 4\n",
        "    div = int(div)\n",
        "    counter = (4 * (div + 1)) - len(res)\n",
        "    for i in range(0, counter):\n",
        "      res = '0' + res\n",
        "  return res"
      ],
      "metadata": {
        "id": "b9EFrXnySkVL"
      },
      "execution_count": null,
      "outputs": []
    },
    {
      "cell_type": "code",
      "source": [
        "# Table Ekspansi Ro(48 bit)\n",
        "expand_perm = [ 32, 1, 2, 3, 4, 5,\n",
        "                4, 5, 6, 7, 8, 9,\n",
        "                8, 9, 10, 11, 12, 13,\n",
        "                12, 13, 14, 15, 16, 17,\n",
        "                16, 17, 18, 19, 20, 21,\n",
        "                20, 21, 22, 23, 24, 25,\n",
        "                24, 25, 26, 27, 28, 29,\n",
        "                28, 29, 30, 31, 32, 1 ]"
      ],
      "metadata": {
        "id": "gZMKXo7FH9cu"
      },
      "execution_count": null,
      "outputs": []
    },
    {
      "cell_type": "markdown",
      "source": [
        "Inisialisasi S-Box"
      ],
      "metadata": {
        "id": "t4sCEtgINq3B"
      }
    },
    {
      "cell_type": "code",
      "source": [
        "s_box = [\n",
        "          # S-Box 1\n",
        "        [[14, 4, 13, 1, 2, 15, 11, 8, 3, 10, 6, 12, 5, 9, 0, 7],\n",
        "         [0, 15, 7, 4, 14, 2, 13, 1, 10, 6, 12, 11, 9, 5, 3, 8],\n",
        "         [4, 1, 14, 8, 13, 6, 2, 11, 15, 12, 9, 7, 3, 10, 5, 0],\n",
        "         [15, 12, 8, 2, 4, 9, 1, 7, 5, 11, 3, 14, 10, 0, 6, 13]],\n",
        "          # S-Box 2\n",
        "        [[15, 1, 8, 14, 6, 11, 3, 4, 9, 7, 2, 13, 12, 0, 5, 10],\n",
        "         [3, 13, 4, 7, 15, 2, 8, 14, 12, 0, 1, 10, 6, 9, 11, 5],\n",
        "         [0, 14, 7, 11, 10, 4, 13, 1, 5, 8, 12, 6, 9, 3, 2, 15],\n",
        "         [13, 8, 10, 1, 3, 15, 4, 2, 11, 6, 7, 12, 0, 5, 14, 9]],\n",
        "          # S-Box 3\n",
        "        [[10, 0, 9, 14, 6, 3, 15, 5, 1, 13, 12, 7, 11, 4, 2, 8],\n",
        "         [13, 7, 0, 9, 3, 4, 6, 10, 2, 8, 5, 14, 12, 11, 15, 1],\n",
        "         [13, 6, 4, 9, 8, 15, 3, 0, 11, 1, 2, 12, 5, 10, 14, 7],\n",
        "         [1, 10, 13, 0, 6, 9, 8, 7, 4, 15, 14, 3, 11, 5, 2, 12]],\n",
        "          # S-Box 4\n",
        "        [[7, 13, 14, 3, 0, 6, 9, 10, 1, 2, 8, 5, 11, 12, 4, 15],\n",
        "         [13, 8, 11, 5, 6, 15, 0, 3, 4, 7, 2, 12, 1, 10, 14, 9],\n",
        "         [10, 6, 9, 0, 12, 11, 7, 13, 15, 1, 3, 14, 5, 2, 8, 4],\n",
        "         [3, 15, 0, 6, 10, 1, 13, 8, 9, 4, 5, 11, 12, 7, 2, 14]],\n",
        "          # S-Box 5\n",
        "        [[2, 12, 4, 1, 7, 10, 11, 6, 8, 5, 3, 15, 13, 0, 14, 9],\n",
        "         [14, 11, 2, 12, 4, 7, 13, 1, 5, 0, 15, 10, 3, 9, 8, 6],\n",
        "         [4, 2, 1, 11, 10, 13, 7, 8, 15, 9, 12, 5, 6, 3, 0, 14],\n",
        "         [11, 8, 12, 7, 1, 14, 2, 13, 6, 15, 0, 9, 10, 4, 5, 3]],\n",
        "          # S-Box 6\n",
        "        [[12, 1, 10, 15, 9, 2, 6, 8, 0, 13, 3, 4, 14, 7, 5, 11],\n",
        "         [10, 15, 4, 2, 7, 12, 9, 5, 6, 1, 13, 14, 0, 11, 3, 8],\n",
        "         [9, 14, 15, 5, 2, 8, 12, 3, 7, 0, 4, 10, 1, 13, 11, 6],\n",
        "         [4, 3, 2, 12, 9, 5, 15, 10, 11, 14, 1, 7, 6, 0, 8, 13]],\n",
        "          # S-Box 7\n",
        "        [[4, 11, 2, 14, 15, 0, 8, 13, 3, 12, 9, 7, 5, 10, 6, 1],\n",
        "         [13, 0, 11, 7, 4, 9, 1, 10, 14, 3, 5, 12, 2, 15, 8, 6],\n",
        "         [1, 4, 11, 13, 12, 3, 7, 14, 10, 15, 6, 8, 0, 5, 9, 2],\n",
        "         [6, 11, 13, 8, 1, 4, 10, 7, 9, 5, 0, 15, 14, 2, 3, 12]],\n",
        "          # S-Box 8\n",
        "        [[13, 2, 8, 4, 6, 15, 11, 1, 10, 9, 3, 14, 5, 0, 12, 7],\n",
        "         [1, 15, 13, 8, 10, 3, 7, 4, 12, 5, 6, 11, 0, 14, 9, 2],\n",
        "         [7, 11, 4, 1, 9, 12, 14, 2, 0, 6, 10, 13, 15, 3, 5, 8],\n",
        "         [2, 1, 14, 7, 4, 10, 8, 13, 15, 12, 9, 0, 3, 5, 6, 11]]\n",
        "      ]"
      ],
      "metadata": {
        "id": "X881tXv2NtoT"
      },
      "execution_count": null,
      "outputs": []
    },
    {
      "cell_type": "code",
      "source": [
        "# Permutation table\n",
        "perm_table=[16, 7, 20, 21, 29, 12, 28, 17,\n",
        "            1, 15, 23, 26, 5, 18, 31, 10,\n",
        "            2, 8, 24, 14, 32, 27, 3, 9,\n",
        "            19, 13, 30, 6, 22, 11, 4, 25]"
      ],
      "metadata": {
        "id": "0gvfCvQBhKiZ"
      },
      "execution_count": null,
      "outputs": []
    },
    {
      "cell_type": "markdown",
      "source": [
        "Proses Substitusi S-Box"
      ],
      "metadata": {
        "id": "fKvvUno1lArh"
      }
    },
    {
      "cell_type": "code",
      "source": [
        "s_box_str = \"\"\n",
        "list_s_box = []\n",
        "p_box = []\n",
        "left = Lo\n",
        "right = Ro\n",
        "left_t = []\n",
        "right_t = []\n",
        "\n",
        "for i in range(0, 16):\n",
        "  right_expand = initial_permutation(right, expand_perm, 48)\n",
        "  A = xor(right_expand, list_combine_perm[i])\n",
        "\n",
        "  # Menghitung row dan column dari s-box\n",
        "  for j in range(0, 8):\n",
        "    row = bin2dec(int(A[j * 6] + A[j * 6 + 5]))\n",
        "    column = bin2dec(int(A[j * 6 + 1] + A[j * 6 + 2] + A[j * 6 + 3] + A[j * 6 + 4]))\n",
        "    value = s_box[j][row][column]\n",
        "    s_box_str += dec2bin(value)\n",
        "  list_s_box.append(s_box_str)\n",
        "  p_box.append(initial_permutation(list_s_box[i], perm_table, 32))\n",
        "  p_transform = p_box[i]\n",
        "  if i == 0:\n",
        "    left_s = right # L1 = R0\n",
        "    left_t.append(left_s)\n",
        "\n",
        "    right = xor(left, p_transform) # R1)\n",
        "    right_t.append(right)\n",
        "  else:\n",
        "    left = right_t[i-1]\n",
        "    right = xor(left_t[i-1], p_transform)\n",
        "\n",
        "    if i == 15:\n",
        "      left_t.append(right)\n",
        "      right_t.append(left)\n",
        "    else:\n",
        "      left_t.append(left)\n",
        "      right_t.append(right)\n",
        "  s_box_str = \"\"\n",
        "  print(\"L\" + str(i+1) + \"\\t=\", left_t[i])\n",
        "  print(\"R\" + str(i+1) + \"\\t=\", right_t[i])\n",
        "  print()"
      ],
      "metadata": {
        "colab": {
          "base_uri": "https://localhost:8080/"
        },
        "id": "_KuYiOBC1266",
        "outputId": "5a595537-315e-4b9d-8345-e971fbfb4ae4"
      },
      "execution_count": null,
      "outputs": [
        {
          "output_type": "stream",
          "name": "stdout",
          "text": [
            "L1\t= 00000000000000000000011010000011\n",
            "R1\t= 11010111000010110011001010000110\n",
            "\n",
            "L2\t= 11010111000010110011001010000110\n",
            "R2\t= 10001011110110011000101010010000\n",
            "\n",
            "L3\t= 10001011110110011000101010010000\n",
            "R3\t= 10111000101110011010111001111000\n",
            "\n",
            "L4\t= 10111000101110011010111001111000\n",
            "R4\t= 10110100111000101100110100110001\n",
            "\n",
            "L5\t= 10110100111000101100110100110001\n",
            "R5\t= 00101101100010110111011000111101\n",
            "\n",
            "L6\t= 00101101100010110111011000111101\n",
            "R6\t= 10010000111110010011111011001001\n",
            "\n",
            "L7\t= 10010000111110010011111011001001\n",
            "R7\t= 11100101010010101001100001010001\n",
            "\n",
            "L8\t= 11100101010010101001100001010001\n",
            "R8\t= 10010111110000000001011110101000\n",
            "\n",
            "L9\t= 10010111110000000001011110101000\n",
            "R9\t= 00111100011100010011101111000101\n",
            "\n",
            "L10\t= 00111100011100010011101111000101\n",
            "R10\t= 10011011110101010111100110001100\n",
            "\n",
            "L11\t= 10011011110101010111100110001100\n",
            "R11\t= 01001101010011111000101110010110\n",
            "\n",
            "L12\t= 01001101010011111000101110010110\n",
            "R12\t= 00110011101111011111011101100101\n",
            "\n",
            "L13\t= 00110011101111011111011101100101\n",
            "R13\t= 11001011100001000100010001011101\n",
            "\n",
            "L14\t= 11001011100001000100010001011101\n",
            "R14\t= 00110110011000001100110100101010\n",
            "\n",
            "L15\t= 00110110011000001100110100101010\n",
            "R15\t= 01101110101000101010100010110001\n",
            "\n",
            "L16\t= 00011111100101111010010111100110\n",
            "R16\t= 01101110101000101010100010110001\n",
            "\n"
          ]
        }
      ]
    },
    {
      "cell_type": "markdown",
      "source": [
        "Invers permutasi dari left, right serta proses mendapatkan cipher"
      ],
      "metadata": {
        "id": "YhoYjmxZOSKV"
      }
    },
    {
      "cell_type": "code",
      "source": [
        "# Final Permutaion Table\n",
        "final_perm = [40, 8, 48, 16, 56, 24, 64, 32,\n",
        "              39, 7, 47, 15, 55, 23, 63, 31,\n",
        "              38, 6, 46, 14, 54, 22, 62, 30,\n",
        "              37, 5, 45, 13, 53, 21, 61, 29,\n",
        "              36, 4, 44, 12, 52, 20, 60, 28,\n",
        "              35, 3, 43, 11, 51, 19, 59, 27,\n",
        "              34, 2, 42, 10, 50, 18, 58, 26,\n",
        "              33, 1, 41, 9, 49, 17, 57, 25 ]"
      ],
      "metadata": {
        "id": "KHJSbQelODJz"
      },
      "execution_count": null,
      "outputs": []
    },
    {
      "cell_type": "code",
      "source": [
        "cipher = \"\"\n",
        "plaintext_invers = left_t[15] + right_t[15]\n",
        "for i in range(len(plaintext_invers)):\n",
        "    cipher = initial_permutation(plaintext_invers, final_perm, 64)\n",
        "cipher"
      ],
      "metadata": {
        "colab": {
          "base_uri": "https://localhost:8080/",
          "height": 35
        },
        "id": "EIpz4_jtORqc",
        "outputId": "920305f8-3201-4502-9238-264128b252c4"
      },
      "execution_count": null,
      "outputs": [
        {
          "output_type": "execute_result",
          "data": {
            "text/plain": [
              "'0101011011110001110101011100100001010010101011111000000100111111'"
            ],
            "application/vnd.google.colaboratory.intrinsic+json": {
              "type": "string"
            }
          },
          "metadata": {},
          "execution_count": 34
        }
      ]
    },
    {
      "cell_type": "markdown",
      "source": [
        "Decrypt Text"
      ],
      "metadata": {
        "id": "P-27kd0XgMx7"
      }
    },
    {
      "cell_type": "code",
      "source": [
        "print(decrypt)"
      ],
      "metadata": {
        "colab": {
          "base_uri": "https://localhost:8080/"
        },
        "id": "b4_KcR2CgQir",
        "outputId": "8b640798-8dd3-4dee-ce6c-d81ef9f0bc2d"
      },
      "execution_count": null,
      "outputs": [
        {
          "output_type": "stream",
          "name": "stdout",
          "text": [
            "['110010110011110110001011000011100001011111110101', '101111111001000110001101001111010011111100001010', '010111110100001110110111111100101110011100111010', '100101111100010111010001111110101011101001000001', '011101010111000111110101100101000110011111101001', '001000010101111111010011110111101101001110000110', '101100011111001101000111101110100100011001001111', '111000001101101111101011111011011110011110000001', '111101111000101000111010110000010011101111111011', '111011001000010010110111111101100001100010111100', '011000111010010100111110010100000111101100101111', '011111001110110000000111111010110101001110101000', '011100101010110111010110110110110011010100011101', '010101011111110010001010010000101100111110011001', '011110011010111011011001110110111100100111100101', '000110110000001011101111111111000111000001110010']\n"
          ]
        }
      ]
    },
    {
      "cell_type": "code",
      "source": [
        "for i in range(len(decrypt)):\n",
        "  print(\"K\" + str(i + 1) + \"\\t=\", decrypt[i])"
      ],
      "metadata": {
        "colab": {
          "base_uri": "https://localhost:8080/"
        },
        "id": "KvGJPujolcVX",
        "outputId": "e7b8bf11-4a8a-4720-e7e4-1d5f221b4531"
      },
      "execution_count": null,
      "outputs": [
        {
          "output_type": "stream",
          "name": "stdout",
          "text": [
            "K1\t= 110010110011110110001011000011100001011111110101\n",
            "K2\t= 101111111001000110001101001111010011111100001010\n",
            "K3\t= 010111110100001110110111111100101110011100111010\n",
            "K4\t= 100101111100010111010001111110101011101001000001\n",
            "K5\t= 011101010111000111110101100101000110011111101001\n",
            "K6\t= 001000010101111111010011110111101101001110000110\n",
            "K7\t= 101100011111001101000111101110100100011001001111\n",
            "K8\t= 111000001101101111101011111011011110011110000001\n",
            "K9\t= 111101111000101000111010110000010011101111111011\n",
            "K10\t= 111011001000010010110111111101100001100010111100\n",
            "K11\t= 011000111010010100111110010100000111101100101111\n",
            "K12\t= 011111001110110000000111111010110101001110101000\n",
            "K13\t= 011100101010110111010110110110110011010100011101\n",
            "K14\t= 010101011111110010001010010000101100111110011001\n",
            "K15\t= 011110011010111011011001110110111100100111100101\n",
            "K16\t= 000110110000001011101111111111000111000001110010\n"
          ]
        }
      ]
    },
    {
      "cell_type": "markdown",
      "source": [
        "Proses Dechipering"
      ],
      "metadata": {
        "id": "l0jxSSSUkoVU"
      }
    },
    {
      "cell_type": "code",
      "source": [
        "s_box_str = \"\"\n",
        "list_s_box = []\n",
        "p_box = []\n",
        "left = left_t[15]\n",
        "right = right_t[15]\n",
        "left_t = []\n",
        "right_t = []\n",
        "\n",
        "for i in range(0, 16):\n",
        "  right_expand = initial_permutation(right, expand_perm, 48)\n",
        "  A = xor(right_expand, decrypt[i])\n",
        "\n",
        "  # Menghitung row dan column dari s-box\n",
        "  for j in range(0, 8):\n",
        "    row = bin2dec(int(A[j * 6] + A[j * 6 + 5]))\n",
        "    column = bin2dec(int(A[j * 6 + 1] + A[j * 6 + 2] + A[j * 6 + 3] + A[j * 6 + 4]))\n",
        "    value = s_box[j][row][column]\n",
        "    s_box_str += dec2bin(value)\n",
        "  list_s_box.append(s_box_str)\n",
        "  p_box.append(initial_permutation(list_s_box[i], perm_table, 32))\n",
        "  p_transform = p_box[i]\n",
        "  if i == 0:\n",
        "    left_s = right # L1 = R0\n",
        "    left_t.append(left_s)\n",
        "\n",
        "    right = xor(left, p_transform) # R1)\n",
        "    right_t.append(right)\n",
        "  else:\n",
        "    left = right_t[i-1]\n",
        "    right = xor(left_t[i-1], p_transform)\n",
        "\n",
        "    if i == 15:\n",
        "      left_t.append(right)\n",
        "      right_t.append(left)\n",
        "    else:\n",
        "      left_t.append(left)\n",
        "      right_t.append(right)\n",
        "  s_box_str = \"\"\n",
        "  print(\"L\" + str(i+1) + \"\\t=\", left_t[i])\n",
        "  print(\"R\" + str(i+1) + \"\\t=\", right_t[i])\n",
        "  print()"
      ],
      "metadata": {
        "colab": {
          "base_uri": "https://localhost:8080/"
        },
        "id": "9kZ3wifDkWzV",
        "outputId": "9e7a57db-4f62-4b6d-fe26-f973ae0c65c4"
      },
      "execution_count": null,
      "outputs": [
        {
          "output_type": "stream",
          "name": "stdout",
          "text": [
            "L1\t= 01101110101000101010100010110001\n",
            "R1\t= 00110110011000001100110100101010\n",
            "\n",
            "L2\t= 00110110011000001100110100101010\n",
            "R2\t= 11001011100001000100010001011101\n",
            "\n",
            "L3\t= 11001011100001000100010001011101\n",
            "R3\t= 00110011101111011111011101100101\n",
            "\n",
            "L4\t= 00110011101111011111011101100101\n",
            "R4\t= 01001101010011111000101110010110\n",
            "\n",
            "L5\t= 01001101010011111000101110010110\n",
            "R5\t= 10011011110101010111100110001100\n",
            "\n",
            "L6\t= 10011011110101010111100110001100\n",
            "R6\t= 00111100011100010011101111000101\n",
            "\n",
            "L7\t= 00111100011100010011101111000101\n",
            "R7\t= 10010111110000000001011110101000\n",
            "\n",
            "L8\t= 10010111110000000001011110101000\n",
            "R8\t= 11100101010010101001100001010001\n",
            "\n",
            "L9\t= 11100101010010101001100001010001\n",
            "R9\t= 10010000111110010011111011001001\n",
            "\n",
            "L10\t= 10010000111110010011111011001001\n",
            "R10\t= 00101101100010110111011000111101\n",
            "\n",
            "L11\t= 00101101100010110111011000111101\n",
            "R11\t= 10110100111000101100110100110001\n",
            "\n",
            "L12\t= 10110100111000101100110100110001\n",
            "R12\t= 10111000101110011010111001111000\n",
            "\n",
            "L13\t= 10111000101110011010111001111000\n",
            "R13\t= 10001011110110011000101010010000\n",
            "\n",
            "L14\t= 10001011110110011000101010010000\n",
            "R14\t= 11010111000010110011001010000110\n",
            "\n",
            "L15\t= 11010111000010110011001010000110\n",
            "R15\t= 00000000000000000000011010000011\n",
            "\n",
            "L16\t= 11111111101110000111011001010111\n",
            "R16\t= 00000000000000000000011010000011\n",
            "\n"
          ]
        }
      ]
    },
    {
      "cell_type": "code",
      "source": [
        "decipher = \"\"\n",
        "plaintext_invers = left_t[15] + right_t[15]\n",
        "for i in range(len(plaintext_invers)):\n",
        "  decipher = initial_permutation(plaintext_invers, final_perm, 64)\n",
        "decipher"
      ],
      "metadata": {
        "colab": {
          "base_uri": "https://localhost:8080/",
          "height": 35
        },
        "id": "w7suwt1Nn5XX",
        "outputId": "81131a9e-4123-436c-e714-bbc5ab43aac7"
      },
      "execution_count": null,
      "outputs": [
        {
          "output_type": "execute_result",
          "data": {
            "text/plain": [
              "'0100001101001111010011010101000001010101010101000100010101010010'"
            ],
            "application/vnd.google.colaboratory.intrinsic+json": {
              "type": "string"
            }
          },
          "metadata": {},
          "execution_count": 39
        }
      ]
    },
    {
      "cell_type": "markdown",
      "source": [
        "Konversi bilangan biner -> teks"
      ],
      "metadata": {
        "id": "gKjBi0yHrMj6"
      }
    },
    {
      "cell_type": "code",
      "source": [
        "partitions_bits = 8 # Menyusun bilangan biner dalam potongan-potongan 8 bit\n",
        "binary_bits = [decipher[i:i + partitions_bits] for i in range(0, len(decipher), partitions_bits)]\n",
        "decimal_characters = [int(partitions, 2) for partitions in binary_bits]\n",
        "\n",
        "# Mengonversi bilangan bulat -> teks\n",
        "text = ''.join(chr(decimal) for decimal in decimal_characters)\n",
        "\n",
        "print(\"Hasil konversi teks : \", text)"
      ],
      "metadata": {
        "colab": {
          "base_uri": "https://localhost:8080/"
        },
        "id": "pj2HliN2qAwQ",
        "outputId": "040d7fc6-4410-474e-ed51-1bcb0f42c60b"
      },
      "execution_count": null,
      "outputs": [
        {
          "output_type": "stream",
          "name": "stdout",
          "text": [
            "Hasil konversi teks :  COMPUTER\n"
          ]
        }
      ]
    }
  ]
}